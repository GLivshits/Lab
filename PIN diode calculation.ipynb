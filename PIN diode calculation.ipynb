{
 "cells": [
  {
   "cell_type": "code",
   "execution_count": 1,
   "metadata": {},
   "outputs": [],
   "source": [
    "import pandas as pd\n",
    "import numpy\n",
    "from matplotlib import pyplot as plt\n",
    "import math\n",
    "import csv"
   ]
  },
  {
   "cell_type": "code",
   "execution_count": 2,
   "metadata": {},
   "outputs": [],
   "source": [
    "NP = 10**19\n",
    "NB = 10**19\n",
    "EiP_D = 0.045\n",
    "EiB_A = 0.045\n",
    "q = 1.602*10**(-19)\n",
    "T = 300\n",
    "k = 1.380649*10**(-23)\n",
    "Eg = 1.126\n",
    "Nv = 2.91*10**19\n",
    "Nc = 1.09*10**19\n",
    "diel = 12*8.8541878*10**(-12)"
   ]
  },
  {
   "cell_type": "code",
   "execution_count": 3,
   "metadata": {},
   "outputs": [
    {
     "name": "stdout",
     "output_type": "stream",
     "text": [
      "6218973741.560536\n",
      "1.7543515088227694e+18 1.7543515088227694e+18\n"
     ]
    }
   ],
   "source": [
    "ni = numpy.float64((Nc*Nv)**0.5*math.exp(-Eg*q/2/k/T)) # расчет концентрации в собственном полупроводнике\n",
    "print(ni)\n",
    "NDn = numpy.float64(NP*math.exp(-EiP_D*q/(k*T))) # расчет ионизированных атомов фосфора в донорном состоянии\n",
    "NAp = numpy.float64(NB*math.exp(-EiB_A*q/(k*T))) # расчет ионизированных атомов бора в акцепторном состоянии\n",
    "print(NDn,NAp)"
   ]
  },
  {
   "cell_type": "code",
   "execution_count": 4,
   "metadata": {},
   "outputs": [
    {
     "name": "stdout",
     "output_type": "stream",
     "text": [
      "1.7543515088227694e+18 22.045544580841813 1.7543515088227694e+18 22.045544580841813\n"
     ]
    }
   ],
   "source": [
    "pp = numpy.float64((NAp+(NAp**2+4*ni**2)**0.5)/2) # расчет концентрации дырок в p-типе\n",
    "np = numpy.float64(ni**2/pp) # расчет концентрации электронов в p-типе\n",
    "nn = numpy.float64((NDn+(NDn**2+4*ni**2)**0.5)/2) # расчет концентрации электронов в n-типе\n",
    "pn = numpy.float64(ni**2/nn) # расчет концентрации дырок в n-типе\n",
    "print(pp,np,nn,pn)"
   ]
  },
  {
   "cell_type": "code",
   "execution_count": 5,
   "metadata": {},
   "outputs": [
    {
     "name": "stdout",
     "output_type": "stream",
     "text": [
      "0.5030774753415702 0.5030774753415702\n",
      "19.457760215116114 19.457760215116114\n"
     ]
    }
   ],
   "source": [
    "Vni = numpy.float64(k*T/q*math.log(nn/ni))\n",
    "Vip = numpy.float64(k*T/q*math.log(pp/ni))\n",
    "print(Vni,Vip)\n",
    "fni = numpy.float64(Vni*q/k/T)\n",
    "fip = numpy.float64(Vip*q/k/T)\n",
    "print(fni,fip)"
   ]
  },
  {
   "cell_type": "code",
   "execution_count": 204,
   "metadata": {},
   "outputs": [],
   "source": [
    "size = 1001\n",
    "x1 = 500\n",
    "x2 = 501\n",
    "h = numpy.zeros((size), dtype = 'float')\n",
    "fi = numpy.zeros((size), dtype = 'float')\n",
    "E = numpy.zeros((size), dtype = 'float')\n",
    "C = numpy.zeros((size), dtype = 'float')\n",
    "err = numpy.zeros((size), dtype = 'float')"
   ]
  },
  {
   "cell_type": "code",
   "execution_count": 205,
   "metadata": {},
   "outputs": [],
   "source": [
    "for i in range(0,x1):\n",
    "    fi[i] = 0\n",
    "    h[i] = 10**(-8)\n",
    "for i in range(x1,x2):\n",
    "    fi[i] = 18.581268\n",
    "    h[i] = 10**(-8)\n",
    "for i in range(x2,size):\n",
    "    fi[i] = 18.581268 + 18.743331\n",
    "    h[i] = 10**(-8)"
   ]
  },
  {
   "cell_type": "code",
   "execution_count": 206,
   "metadata": {},
   "outputs": [
    {
     "name": "stdout",
     "output_type": "stream",
     "text": [
      "5.831637376360708e-10\n"
     ]
    }
   ],
   "source": [
    "M = 1\n",
    "a = q*q/diel/k/T/100\n",
    "v = 0\n",
    "print(a)\n",
    "j = 0"
   ]
  },
  {
   "cell_type": "code",
   "execution_count": 207,
   "metadata": {},
   "outputs": [],
   "source": [
    "try:\n",
    "    while j < 1000:\n",
    "        for i in range(1,x1):\n",
    "            v = (fi[i+1]+fi[i-1]+a*h[i]*h[i]*(-NAp+pp*math.exp(-fi[i])-pn*math.exp(fi[i])))/2\n",
    "            d = abs(v-fi[i])\n",
    "            err[i] = d\n",
    "            fi[i] = v\n",
    "        for i in range(x1,x2):\n",
    "            v = (fi[i+1]+fi[i-1]+a*h[i]*h[i]*ni*(math.exp(-(fi[i]-fip))-math.exp((fi[i]-fip))))/2\n",
    "            d = abs(v-fi[i])\n",
    "            err[i] = d\n",
    "            fi[i] = v\n",
    "        for i in range(x2,size-1):\n",
    "            v = (fi[i+1]+fi[i-1]+a*h[i]*h[i]*(NDn-nn*math.exp(fi[i]-fip-fni)+np*math.exp(-(fi[i]-fip-fni))))/2\n",
    "            d = abs(v-fi[i])\n",
    "            err[i] = d\n",
    "            fi[i] = v\n",
    "        j = j + 1\n",
    "except:\n",
    "    print(i,j)"
   ]
  },
  {
   "cell_type": "code",
   "execution_count": 208,
   "metadata": {},
   "outputs": [],
   "source": [
    "for i in range (0,size-1):\n",
    "    E[i] = -(fi[i + 1] - fi[i]) / h[i]\n",
    "for i in range (1,size-1):\n",
    "    C[i] = -(fi[i + 1] - 2 * fi[i] + fi[i - 1]) / (h[i] * h[i])"
   ]
  },
  {
   "cell_type": "code",
   "execution_count": 209,
   "metadata": {},
   "outputs": [
    {
     "name": "stdout",
     "output_type": "stream",
     "text": [
      "[[ 0.00000000e+00  0.00000000e+00  0.00000000e+00  0.00000000e+00]\n",
      " [ 1.00000000e-08 -1.23977088e-08  4.33657911e-15 -4.46055620e-23]\n",
      " [ 2.00000000e-08 -1.21689397e-08  4.21488971e-15 -8.79713531e-23]\n",
      " ...\n",
      " [ 9.98000000e-06  8.00094853e+08  2.82497316e+02  3.73246047e+01]\n",
      " [ 9.99000000e-06  8.14634760e+08  2.90643663e+02  3.73246019e+01]\n",
      " [ 1.00000000e-05  0.00000000e+00  0.00000000e+00  3.73245990e+01]]\n"
     ]
    }
   ],
   "source": [
    "data = numpy.zeros((size,4), dtype = 'float')\n",
    "for i in range (1,size):\n",
    "    data[i,0] = data[i-1,0]+h[i]\n",
    "    data[i,1] = C[i]\n",
    "    data[i,2] = E[i]\n",
    "    data[i,3] = fi[i]\n",
    "print(data)"
   ]
  },
  {
   "cell_type": "code",
   "execution_count": 210,
   "metadata": {},
   "outputs": [],
   "source": [
    "df = pd.DataFrame(data)"
   ]
  },
  {
   "cell_type": "code",
   "execution_count": 211,
   "metadata": {},
   "outputs": [],
   "source": [
    "pd.DataFrame.to_csv(df, path_or_buf = r\"C:\\Users\\kpebe\\OneDrive\\Рабочий стол\\data.csv\", sep = \"\t\", index = False, header = True)"
   ]
  },
  {
   "cell_type": "code",
   "execution_count": 212,
   "metadata": {},
   "outputs": [
    {
     "name": "stdout",
     "output_type": "stream",
     "text": [
      "33308954.92979807\n"
     ]
    }
   ],
   "source": [
    "Co = 0\n",
    "for i in range (0,size):\n",
    "    if data[i,1] > 0:\n",
    "        Co = Co + data[i,1]*h[i]\n",
    "print(Co)"
   ]
  },
  {
   "cell_type": "code",
   "execution_count": null,
   "metadata": {},
   "outputs": [],
   "source": []
  }
 ],
 "metadata": {
  "kernelspec": {
   "display_name": "Python 3",
   "language": "python",
   "name": "python3"
  },
  "language_info": {
   "codemirror_mode": {
    "name": "ipython",
    "version": 3
   },
   "file_extension": ".py",
   "mimetype": "text/x-python",
   "name": "python",
   "nbconvert_exporter": "python",
   "pygments_lexer": "ipython3",
   "version": "3.7.3"
  }
 },
 "nbformat": 4,
 "nbformat_minor": 2
}
