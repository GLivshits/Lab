{
 "cells": [
  {
   "cell_type": "code",
   "execution_count": 57,
   "metadata": {},
   "outputs": [],
   "source": [
    "import csv\n",
    "import pandas as pd\n",
    "import numpy as np\n",
    "import matplotlib as mpl\n",
    "from matplotlib import pyplot as plt\n",
    "import seaborn as sns\n",
    "import math\n",
    "from matplotlib.colors import ListedColormap\n",
    "import os\n",
    "from scipy.signal import savgol_filter\n",
    "import re"
   ]
  },
  {
   "cell_type": "code",
   "execution_count": null,
   "metadata": {},
   "outputs": [],
   "source": [
    "def params_calc(df):\n",
    "    num_columns = df_csv.shape[1]\n",
    "    num_cycles = int((num_columns-2)/2)\n",
    "    num_svar = df_csv[0].nunique()\n",
    "    num_fvar = int(df_csv.shape[0]/num_svar)\n",
    "    data = np.ndarray((num_columns, num_fvar, num_svar), dtype = 'float')\n",
    "    max_currents = np.zeros((num_svar))\n",
    "    min_currents = np.zeros((num_svar))\n",
    "    \n",
    "    for k in range(0,num_svar):\n",
    "        for i in range(0,num_columns):\n",
    "            for j in range(0,num_fvar):\n",
    "                data[i,j,k] = df.iloc[j+num_fvar*k,i]"
   ]
  },
  {
   "cell_type": "code",
   "execution_count": null,
   "metadata": {},
   "outputs": [],
   "source": []
  },
  {
   "cell_type": "code",
   "execution_count": 206,
   "metadata": {},
   "outputs": [],
   "source": [
    "def whole_calc(filepath):\n",
    "    \n",
    "    device_coords = []\n",
    "    for root, dirs, files in os.walk(filepath):\n",
    "        for file in files:\n",
    "            some_arr = []\n",
    "            if os.path.splitext(file)[1] == '.dat':\n",
    "                device_coords.append(np.array([int(s) for s in re.split('_', os.path.splitext(file)[0]) if s.isdigit()]))\n",
    "                f_dat = open(root + '\\\\' + file, 'r')\n",
    "                lines = f_dat.readlines()\n",
    "                for line in lines:\n",
    "                    if 'l' in line:\n",
    "                        some_arr.append(lines.index(line))\n",
    "                for line in lines:\n",
    "                    if line.startswith('0,00000E+0'):\n",
    "                        some_arr.append(lines.index(line))\n",
    "                some_arr = np.array(some_arr)\n",
    "                for item in some_arr:\n",
    "                    lines.pop(item)\n",
    "                    some_arr -= 1\n",
    "                f_csv = open(root + '\\\\' + os.path.splitext(file)[0] + '.csv', 'w')\n",
    "                for line in lines:\n",
    "                    line = line.replace(',', '.')\n",
    "                    f_csv.write(line) \n",
    "                f_dat.close()\n",
    "                f_csv.close()\n",
    "    \n",
    "    all_devices = np.array(device_coords[0])\n",
    "    for i in range(1, len(device_coords)):\n",
    "        all_devices = np.vstack((all_devices, device_coords[i]))\n",
    "    \n",
    "    open_state_resistance = np.zeros((len(np.unique(all_devices[:,0])), len(np.unique(all_devices[:, 1]))))\n",
    "    closed_state_resistance = np.zeros((len(np.unique(all_devices[:,0])), len(np.unique(all_devices[:, 1]))))\n",
    "    on_off_ratio = np.zeros((len(np.unique(all_devices[:,0])), len(np.unique(all_devices[:, 1]))))\n",
    "    \n",
    "    try:\n",
    "        os.makedirs(filepath + '\\\\On/off')\n",
    "        os.makedirs(filepath + '\\\\Open state resistance')\n",
    "        os.makedirs(filepath + '\\\\Closed state resistance')\n",
    "        os.makedirs(filepath + '\\\\Gate resistance')\n",
    "        os.makedirs(filepath + '\\\\Log scale graphs')\n",
    "    except:\n",
    "        pass\n",
    "    for root, dirs, files in os.walk(filepath):\n",
    "        for file in files:\n",
    "            if os.path.splitext(file)[1] == '.csv':\n",
    "                df_csv = pd.read_csv(root + '\\\\' + file, engine = 'python', sep = '\t', header = None)\n",
    "                num_columns = df_csv.shape[1]\n",
    "                num_cycles = (num_columns-2)/2\n",
    "                num_svar = df_csv[0].nunique()\n",
    "                num_fvar = df_csv.shape[0]/num_svar"
   ]
  },
  {
   "cell_type": "code",
   "execution_count": null,
   "metadata": {},
   "outputs": [],
   "source": []
  },
  {
   "cell_type": "code",
   "execution_count": 207,
   "metadata": {
    "scrolled": false
   },
   "outputs": [
    {
     "data": {
      "text/plain": [
       "12"
      ]
     },
     "execution_count": 207,
     "metadata": {},
     "output_type": "execute_result"
    }
   ],
   "source": [
    "whole_calc(r'C:\\Users\\kpebe\\OneDrive\\Рабочий стол\\Transistors\\\\For new program')"
   ]
  },
  {
   "cell_type": "code",
   "execution_count": null,
   "metadata": {},
   "outputs": [],
   "source": []
  }
 ],
 "metadata": {
  "kernelspec": {
   "display_name": "Python 3",
   "language": "python",
   "name": "python3"
  },
  "language_info": {
   "codemirror_mode": {
    "name": "ipython",
    "version": 3
   },
   "file_extension": ".py",
   "mimetype": "text/x-python",
   "name": "python",
   "nbconvert_exporter": "python",
   "pygments_lexer": "ipython3",
   "version": "3.7.3"
  }
 },
 "nbformat": 4,
 "nbformat_minor": 2
}
